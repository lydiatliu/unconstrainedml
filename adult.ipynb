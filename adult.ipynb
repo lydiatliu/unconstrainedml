{
 "cells": [
  {
   "cell_type": "code",
   "execution_count": 1,
   "metadata": {
    "collapsed": false
   },
   "outputs": [],
   "source": [
    "%matplotlib inline\n",
    "import pandas as pd\n",
    "import numpy as np\n",
    "import util\n",
    "from util import data_transform, group_calib_feature,sep_err_feature,get_frequencies2, plot_confidence, plot_calib\n",
    "import pylab\n",
    "import sklearn as skl\n",
    "import sklearn.preprocessing as preprocessing\n",
    "import sklearn.linear_model as linear_model\n",
    "import sklearn.metrics as metrics\n",
    "import sklearn.tree as tree\n",
    "import sklearn.neural_network as nn\n",
    "import matplotlib.pyplot as plt\n",
    "from matplotlib.ticker import MaxNLocator\n"
   ]
  },
  {
   "cell_type": "code",
   "execution_count": 2,
   "metadata": {
    "collapsed": true
   },
   "outputs": [],
   "source": [
    "## download \"https://archive.ics.uci.edu/ml/machine-learning-databases/adult/adult.data\" to folder"
   ]
  },
  {
   "cell_type": "code",
   "execution_count": 3,
   "metadata": {
    "collapsed": false
   },
   "outputs": [],
   "source": [
    "features = [\"Age\", \"Workclass\", \"fnlwgt\", \"Education\", \"Education-Num\", \"Martial Status\",\n",
    "        \"Occupation\", \"Relationship\", \"Race\", \"Sex\", \"Capital Gain\", \"Capital Loss\",\n",
    "        \"Hours per week\", \"Country\", \"Target\"] \n",
    "\n",
    "original_train = pd.read_csv(\"adult.data.txt\", names=features, sep=r'\\s*,\\s*', engine='python', na_values=\"?\")\n",
    "original_test = pd.read_csv(\"adult.test.txt\", names=features, sep=r'\\s*,\\s*', engine='python', na_values=\"?\", skiprows=1)\n",
    "\n",
    "num_train = len(original_train)\n",
    "original = pd.concat([original_train, original_test])\n",
    "labels = original['Target']\n",
    "labels = labels.replace('<=50K', 0).replace('>50K', 1)\n",
    "labels = labels.replace('<=50K.', 0).replace('>50K.', 1)\n",
    "\n",
    "# Redundant column\n",
    "del original[\"Education\"]\n",
    "del original[\"Target\"]\n",
    "\n",
    "data = data_transform(original)\n",
    "train_data = data[:num_train]\n",
    "train_labels = labels[:num_train]\n",
    "test_data = data[num_train:]\n",
    "test_labels = labels[num_train:]"
   ]
  },
  {
   "cell_type": "code",
   "execution_count": 4,
   "metadata": {
    "collapsed": false
   },
   "outputs": [
    {
     "data": {
      "text/plain": [
       "32561"
      ]
     },
     "execution_count": 4,
     "metadata": {},
     "output_type": "execute_result"
    }
   ],
   "source": [
    "len(original_train)"
   ]
  },
  {
   "cell_type": "code",
   "execution_count": 5,
   "metadata": {
    "collapsed": true
   },
   "outputs": [],
   "source": [
    "def data_feature_select(df, n_features_to_remove=0, gender=True, seed=0):\n",
    "    '''Takes a subset of features'''\n",
    "    # make copy\n",
    "    data = df.copy()\n",
    "    \n",
    "    # remove group info\n",
    "    if gender:\n",
    "        #remove gender column\n",
    "        del data[\"Sex\"]\n",
    "        col_names = [\"Age\", \"Workclass\", \"fnlwgt\", \"Education-Num\", \"Martial Status\",\n",
    "        \"Occupation\", \"Relationship\", \"Race\", \"Capital Gain\", \"Capital Loss\",\n",
    "        \"Hours per week\", \"Country\"] \n",
    "    else:\n",
    "        #remove race column\n",
    "        del data[\"Race\"]\n",
    "        col_names = [\"Age\", \"Workclass\", \"fnlwgt\", \"Education-Num\", \"Martial Status\",\n",
    "        \"Occupation\", \"Relationship\", \"Sex\", \"Capital Gain\", \"Capital Loss\",\n",
    "        \"Hours per week\", \"Country\"] \n",
    "    \n",
    "    # remove n_features_to_remove features to cap model size\n",
    "    if n_features_to_remove > 0:\n",
    "        data.drop(col_names[0:(n_features_to_remove)],axis=1,inplace=True)\n",
    "    \n",
    "    return data"
   ]
  },
  {
   "cell_type": "markdown",
   "metadata": {},
   "source": [
    "### Test"
   ]
  },
  {
   "cell_type": "code",
   "execution_count": 6,
   "metadata": {
    "collapsed": false
   },
   "outputs": [
    {
     "data": {
      "text/plain": [
       "LogisticRegression(C=1.0, class_weight=None, dual=False, fit_intercept=True,\n",
       "          intercept_scaling=1, max_iter=100, multi_class='ovr', n_jobs=1,\n",
       "          penalty='l2', random_state=None, solver='liblinear', tol=0.0001,\n",
       "          verbose=0, warm_start=False)"
      ]
     },
     "execution_count": 6,
     "metadata": {},
     "output_type": "execute_result"
    }
   ],
   "source": [
    "cls = linear_model.LogisticRegression()\n",
    "cls.fit(train_data, train_labels)"
   ]
  },
  {
   "cell_type": "code",
   "execution_count": 7,
   "metadata": {
    "collapsed": false
   },
   "outputs": [],
   "source": [
    "predictions = cls.predict(test_data)\n",
    "scores = cls.predict_proba(test_data)[:, 1]\n",
    "\n",
    "d = {'target' : test_labels.as_matrix(),\n",
    "     'score' : scores,\n",
    "     'prediction' : predictions,\n",
    "     'race' : original_test['Race'],\n",
    "     'gender' : original_test['Sex']}\n",
    "results = pd.DataFrame(data=d)\n",
    "\n",
    "male = results[results['gender'] == 'Male']\n",
    "fpr_male, tpr_male, _ = metrics.roc_curve(male['target'], male['score'])\n",
    "female = results[results['gender'] == 'Female']\n",
    "fpr_female, tpr_female, _ = metrics.roc_curve(female['target'], female['score'])\n",
    "white = results[results['race'] == 'White']\n",
    "fpr_white, tpr_white, _ = metrics.roc_curve(white['target'], white['score'])\n",
    "black = results[results['race'] == 'Black']\n",
    "fpr_black, tpr_black, _ = metrics.roc_curve(black['target'], black['score'])"
   ]
  },
  {
   "cell_type": "code",
   "execution_count": 8,
   "metadata": {
    "collapsed": false
   },
   "outputs": [
    {
     "name": "stdout",
     "output_type": "stream",
     "text": [
      "0.8529574350469873\n"
     ]
    }
   ],
   "source": [
    "acc = cls.score(test_data,test_labels.as_matrix())\n",
    "print(acc)"
   ]
  },
  {
   "cell_type": "markdown",
   "metadata": {},
   "source": [
    "# Different number of training examples vs calibration"
   ]
  },
  {
   "cell_type": "code",
   "execution_count": 9,
   "metadata": {
    "collapsed": true
   },
   "outputs": [],
   "source": [
    "def one_learning_curve_expt(df, n_training_examples, gender=True, rm_group=False, return_results=False, seed=0):\n",
    "    '''Runs an experiment for n_training_examples'''\n",
    "    if rm_group:\n",
    "        data = data_feature_select(df, 0, gender)\n",
    "    else:\n",
    "        data = df.copy()\n",
    "    data = data_transform(data)\n",
    "    \n",
    "    # random training set of size n_training_examples\n",
    "    np.random.seed(seed=seed)\n",
    "    training_indices = np.random.choice(num_train, n_training_examples, replace=False)\n",
    "    train_data = data.iloc[training_indices]\n",
    "    train_labels = labels.iloc[training_indices]\n",
    "    # fixed test set\n",
    "    test_data = data[num_train:]\n",
    "    test_labels = labels[num_train:]\n",
    "        \n",
    "    cls = linear_model.LogisticRegression()\n",
    "    cls.fit(train_data, train_labels)\n",
    "    predictions = cls.predict(test_data)\n",
    "    scores = cls.predict_proba(test_data)[:, 1]\n",
    "\n",
    "    d = {'target' : test_labels.as_matrix(),\n",
    "         'score' : scores,\n",
    "         'prediction' : predictions,\n",
    "         'race' : original_test['Race'],\n",
    "         'gender' : original_test['Sex']}\n",
    "    results = pd.DataFrame(data=d)\n",
    "    if gender:\n",
    "        calib = group_calib_feature(results, 'gender')\n",
    "        sep = sep_err_feature(results,'gender')\n",
    "    else:\n",
    "        calib = group_calib_feature(results, 'race')\n",
    "        sep = sep_err_feature(results, 'race')\n",
    "    acc = cls.score(test_data,test_labels.as_matrix())\n",
    "    score_loss = metrics.log_loss(test_labels.as_matrix(), scores)\n",
    "    if return_results:\n",
    "        return calib,sep, acc, score_loss, results\n",
    "    else:\n",
    "        return calib,sep, acc, score_loss"
   ]
  },
  {
   "cell_type": "code",
   "execution_count": 10,
   "metadata": {
    "collapsed": false
   },
   "outputs": [],
   "source": [
    "repeats = 10\n",
    "t=30\n",
    "temp = np.round(np.linspace(10, 2000, t)).astype(int)\n",
    "temp = np.append(temp, np.round(np.linspace(2000, 10000, t)).astype(int))\n",
    "t = len(temp)\n",
    "\n",
    "maxt = 10000\n",
    "#[mean, std dev]\n",
    "gender = [np.zeros(t),np.zeros(t)]\n",
    "race = [np.zeros(t),np.zeros(t)]\n",
    "acc_g = [np.zeros(t),np.zeros(t)]\n",
    "acc_r = [np.zeros(t),np.zeros(t)]\n",
    "res_g = [np.zeros(t),np.zeros(t)]\n",
    "res_r = [np.zeros(t),np.zeros(t)]\n",
    "scorel_g = [np.zeros(t),np.zeros(t)]\n",
    "scorel_r= [np.zeros(t),np.zeros(t)]\n",
    "sep_g = [np.zeros(t),np.zeros(t)]\n",
    "sep_r= [np.zeros(t),np.zeros(t)]"
   ]
  },
  {
   "cell_type": "code",
   "execution_count": 11,
   "metadata": {
    "collapsed": true
   },
   "outputs": [],
   "source": [
    "for i in range(t):\n",
    "    temp_a = np.zeros(repeats)\n",
    "    temp_b = np.zeros(repeats)\n",
    "    temp_c = np.zeros(repeats)\n",
    "    temp_d = np.zeros(repeats)\n",
    "    for j in range(repeats):\n",
    "        temp_a[j],temp_b[j],temp_c[j],temp_d[j] = one_learning_curve_expt(original,temp[i],gender=True,return_results=False, seed=j)\n",
    "    gender[0][i] = temp_a.mean()\n",
    "    sep_g[0][i] = temp_b.mean()\n",
    "    acc_g[0][i] = temp_c.mean()\n",
    "    scorel_g[0][i] = temp_d.mean()\n",
    "\n",
    "    gender[1][i] = temp_a.std()\n",
    "    sep_g[1][i] = temp_b.std()\n",
    "    acc_g[1][i] = temp_c.std()\n",
    "    scorel_g[1][i] = temp_d.std()"
   ]
  },
  {
   "cell_type": "code",
   "execution_count": 12,
   "metadata": {
    "collapsed": false
   },
   "outputs": [],
   "source": [
    "for i in range(t):\n",
    "    temp_a = np.zeros(repeats)\n",
    "    temp_b = np.zeros(repeats)\n",
    "    temp_c = np.zeros(repeats)\n",
    "    temp_d = np.zeros(repeats)\n",
    "    for j in range(repeats):\n",
    "        temp_a[j],temp_b[j],temp_c[j],temp_d[j] = one_learning_curve_expt(original,temp[i],gender=False,return_results=False, seed=j)\n",
    "    race[0][i] = temp_a.mean()\n",
    "    sep_r[0][i] = temp_b.mean()\n",
    "    acc_r[0][i] = temp_c.mean()\n",
    "    scorel_r[0][i] = temp_d.mean()\n",
    "\n",
    "    race[1][i] = temp_a.std()\n",
    "    sep_r[1][i] = temp_b.std()\n",
    "    acc_r[1][i] = temp_c.std()\n",
    "    scorel_r[1][i] = temp_d.std()   "
   ]
  },
  {
   "cell_type": "code",
   "execution_count": 13,
   "metadata": {
    "collapsed": false
   },
   "outputs": [
    {
     "data": {
      "image/png": "[encoded data removed]",
      "text/plain": [
       "<matplotlib.figure.Figure at 0x1a16ece5d0>"
      ]
     },
     "metadata": {},
     "output_type": "display_data"
    }
   ],
   "source": [
    "s = 2\n",
    "fig, ax1 = plt.subplots(1, 1, figsize=(3.8, 3.2))\n",
    "ax1.set_title('Sufficiency and Learning curve') \n",
    "ax1.plot(temp, gender[0], color='g', label='Sufficiency by gender')\n",
    "ax1.fill_between(temp, gender[0]+s*gender[1], gender[0]-s*gender[1], alpha=.2, color='g')\n",
    "ax1.plot(temp, sep_g[0], color='b', label='Separation by gender',linestyle=\"--\")\n",
    "ax1.fill_between(temp, sep_g[0]+s*sep_g[1], sep_g[0]-sep_g[1], alpha=.2, color='b')\n",
    "ax1.set_ylabel('Sufficiency/Separation gap')\n",
    "ax1.set_xlabel('Training examples')\n",
    "ax1.axhline(y=0, color='k', linewidth=.7)\n",
    "ax1.legend(loc=1)\n",
    "ax2 = ax1.twinx()\n",
    "ax2.plot(temp,scorel_g[0],color='r', label='Logistic loss' ,linestyle=':')\n",
    "ax2.fill_between(temp,scorel_g[0]+s*scorel_g[1], scorel_g[0]-s*scorel_g[1],color='r',alpha=.2 )\n",
    "ax2.set_ylabel('Loss')\n",
    "ax2.legend(loc=7, bbox_to_anchor=(1, 0.5))\n",
    "plt.tight_layout()\n",
    "plt.savefig('../figures/adult_sepcalibration_gender_learningcurve_loss_errbar_maxn%d.svg'%maxt)\n",
    "plt.savefig('../figures/adult_sepcalibration_gender_learningcurve_loss_errbar_maxn%d.pdf'%maxt)\n",
    "plt.show()\n",
    "plt.gcf().clear() \n",
    "plt.close()"
   ]
  },
  {
   "cell_type": "code",
   "execution_count": 14,
   "metadata": {
    "collapsed": false
   },
   "outputs": [
    {
     "data": {
      "image/png": "[encoded data removed]",
      "text/plain": [
       "<matplotlib.figure.Figure at 0x1a1713a450>"
      ]
     },
     "metadata": {},
     "output_type": "display_data"
    }
   ],
   "source": [
    "fig, ax1 = plt.subplots(1, 1, figsize=(3.8, 3.2))\n",
    "ax1.set_title('Sufficiency and Learning curve') \n",
    "ax1.plot(temp, race[0], color='g', label='Sufficiency by race')\n",
    "ax1.fill_between(temp, race[0]+s*race[1], race[0]-s*race[1], alpha=.2, color='g')\n",
    "ax1.plot(temp, sep_r[0], color='b', label='Separation by race',linestyle=\"--\")\n",
    "ax1.fill_between(temp, sep_r[0]+s*sep_r[1], sep_r[0]-sep_r[1], alpha=.2, color='b')\n",
    "ax1.set_ylabel('Sufficiency/Separation gap')\n",
    "ax1.set_xlabel('Training examples')\n",
    "ax1.axhline(y=0, color='k', linewidth=.7)\n",
    "ax1.legend(loc=1)\n",
    "ax2 = ax1.twinx()\n",
    "ax2.plot(temp,scorel_r[0],color='r', label='Logistic loss' , linestyle=':')\n",
    "ax2.fill_between(temp,scorel_r[0]+s*scorel_r[1], scorel_r[0]-s*scorel_r[1],color='r',alpha=.2 )\n",
    "ax2.set_ylabel('Loss')\n",
    "ax2.legend(loc=7, bbox_to_anchor=(1, 0.5))\n",
    "plt.tight_layout()\n",
    "plt.savefig('../figures/adult_sepcalibration_race_learningcurve_loss_errbar_maxn%d.svg'%maxt)\n",
    "plt.savefig('../figures/adult_sepcalibration_race_learningcurve_loss_errbar_maxn%d.pdf'%maxt)\n",
    "plt.show()\n",
    "plt.gcf().clear() \n",
    "plt.close()"
   ]
  },
  {
   "cell_type": "markdown",
   "metadata": {},
   "source": [
    "# Different number of features vs calibration vs prediction error"
   ]
  },
  {
   "cell_type": "code",
   "execution_count": 15,
   "metadata": {
    "collapsed": false
   },
   "outputs": [],
   "source": [
    "def one_feature_expt(df, n_features_to_remove, gender=True, seed=0, return_results=True):\n",
    "    '''Runs an experiment by removing n_features_to_remove features from dataset'''\n",
    "    data = data_feature_select(df, n_features_to_remove, gender, seed=seed)\n",
    "    data = data_transform(data)\n",
    "    \n",
    "    # random training set of size n_training_examples\n",
    "    np.random.seed(seed=seed)\n",
    "    training_indices = np.random.choice(len(df), num_train, replace=False)\n",
    "    train_data = data.iloc[training_indices]\n",
    "    train_labels = labels.iloc[training_indices]\n",
    "    # fixed test set\n",
    "    test_indices = ~data.index.isin(training_indices.tolist())\n",
    "    test_data = data[test_indices]\n",
    "    test_labels = labels[test_indices]\n",
    "    \n",
    "    cls = linear_model.LogisticRegression()\n",
    "    cls.fit(train_data, train_labels)\n",
    "    predictions = cls.predict(test_data)\n",
    "    scores = cls.predict_proba(test_data)[:, 1]\n",
    "    \n",
    "    temp = df[test_indices]\n",
    "    d = {'target' : test_labels.as_matrix(),\n",
    "         'score' : scores,\n",
    "         'prediction' : predictions,\n",
    "         'race' : temp['Race'],\n",
    "         'gender' : temp['Sex']}\n",
    "    results = pd.DataFrame(data=d)\n",
    "    if gender:\n",
    "        calib = group_calib_feature(results, 'gender')\n",
    "    else:\n",
    "        calib = group_calib_feature(results, 'race')\n",
    "    acc = cls.score(test_data,test_labels.as_matrix())\n",
    "    score_loss = metrics.log_loss(test_labels.as_matrix(), scores)\n",
    "    if return_results:\n",
    "        return calib,acc,score_loss, results\n",
    "    else:\n",
    "        return calib,acc,score_loss"
   ]
  },
  {
   "cell_type": "markdown",
   "metadata": {},
   "source": [
    "### with err bars"
   ]
  },
  {
   "cell_type": "code",
   "execution_count": 16,
   "metadata": {
    "collapsed": false
   },
   "outputs": [],
   "source": [
    "t=10\n",
    "num_features = range(t)\n",
    "repeats = 20\n",
    "#[mean, std dev]\n",
    "gender = [np.zeros(t),np.zeros(t)]\n",
    "race = [np.zeros(t),np.zeros(t)]\n",
    "acc_g = [np.zeros(t),np.zeros(t)]\n",
    "acc_r = [np.zeros(t),np.zeros(t)]\n",
    "res_g = [np.zeros(t),np.zeros(t)]\n",
    "res_r = [np.zeros(t),np.zeros(t)]\n",
    "scorel_g = [np.zeros(t),np.zeros(t)]\n",
    "scorel_r= [np.zeros(t),np.zeros(t)]\n",
    "for i in range(t):\n",
    "    temp_a = np.zeros(repeats)\n",
    "    temp_b = np.zeros(repeats)\n",
    "    temp_c = np.zeros(repeats)\n",
    "    for j in range(repeats):\n",
    "        temp_a[j],temp_b[j],temp_c[j] = one_feature_expt(original,i,gender=True,return_results=False, seed=j)\n",
    "    gender[0][i] = temp_a.mean()\n",
    "    acc_g[0][i] = temp_b.mean()\n",
    "    scorel_g[0][i] = temp_c.mean()\n",
    "\n",
    "    gender[1][i] = temp_a.std()\n",
    "    acc_g[1][i] = temp_b.std()\n",
    "    scorel_g[1][i] = temp_c.std()\n"
   ]
  },
  {
   "cell_type": "code",
   "execution_count": 17,
   "metadata": {
    "collapsed": false
   },
   "outputs": [
    {
     "data": {
      "image/png": "[encoded data removed]",
      "text/plain": [
       "<matplotlib.figure.Figure at 0x1a16f92fd0>"
      ]
     },
     "metadata": {},
     "output_type": "display_data"
    }
   ],
   "source": [
    "s=2\n",
    "fig, ax1 = plt.subplots(1, 1, figsize=(3.8, 3))\n",
    "ax1.set_title('Sufficiency and Model Size') \n",
    "ax1.plot(num_features, gender[0], color='b', label='Sufficiency by gender')\n",
    "ax1.fill_between(num_features, gender[0]+s*gender[1], gender[0]-s*gender[1], alpha=.2, color='b')\n",
    "ax1.set_ylabel('Sufficiency gap')\n",
    "ax1.set_xlabel('Number of features removed')\n",
    "ax1.xaxis.set_major_locator(MaxNLocator(integer=True))\n",
    "ax1.legend(loc=2)\n",
    "ax2 = ax1.twinx()\n",
    "ax2.plot(num_features,scorel_g[0],color='r', label='Logistic loss' )\n",
    "ax2.fill_between(num_features,scorel_g[0]+s*scorel_g[1], scorel_g[0]-s*scorel_g[1],color='r',alpha=.2 )\n",
    "ax2.set_ylabel('Loss')\n",
    "ax2.legend(loc=6)\n",
    "plt.tight_layout()\n",
    "plt.savefig('../figures/adult_calibration_gender_modelsize_loss_ebar.svg')\n",
    "plt.savefig('../figures/adult_calibration_gender_modelsize_loss_ebar.pdf')\n",
    "plt.show()\n",
    "plt.gcf().clear() \n",
    "plt.close()"
   ]
  },
  {
   "cell_type": "code",
   "execution_count": 18,
   "metadata": {
    "collapsed": false
   },
   "outputs": [],
   "source": [
    "for i in range(t):\n",
    "    temp_a = np.zeros(repeats)\n",
    "    temp_b = np.zeros(repeats)\n",
    "    temp_c = np.zeros(repeats)\n",
    "    for j in range(repeats):\n",
    "        temp_a[j],temp_b[j],temp_c[j] = one_feature_expt(original,i,gender=False,return_results=False, seed=j)\n",
    "    race[0][i] = temp_a.mean()\n",
    "    acc_r[0][i] = temp_b.mean()\n",
    "    scorel_r[0][i] = temp_c.mean()\n",
    "\n",
    "    race[1][i] = temp_a.std()\n",
    "    acc_r[1][i] = temp_b.std()\n",
    "    scorel_r[1][i] = temp_c.std()   \n"
   ]
  },
  {
   "cell_type": "code",
   "execution_count": 19,
   "metadata": {
    "collapsed": false
   },
   "outputs": [
    {
     "data": {
      "image/png": "[encoded data removed]",
      "text/plain": [
       "<matplotlib.figure.Figure at 0x1a17176f10>"
      ]
     },
     "metadata": {},
     "output_type": "display_data"
    }
   ],
   "source": [
    "s=2\n",
    "fig, ax1 = plt.subplots(1, 1, figsize=(3.8, 3))\n",
    "ax1.set_title('Sufficiency and Model Size') \n",
    "ax1.plot(num_features, race[0], color='b', label='Sufficiency by race')\n",
    "ax1.fill_between(num_features, race[0]+s*race[1], race[0]-s*race[1], alpha=.2, color='b')\n",
    "ax1.set_ylabel('Sufficiency gap')\n",
    "ax1.set_xlabel('Number of features removed')\n",
    "ax1.xaxis.set_major_locator(MaxNLocator(integer=True))\n",
    "ax1.legend(loc=2)\n",
    "ax2 = ax1.twinx()\n",
    "ax2.plot(num_features,scorel_r[0],color='r', label='Logistic loss' )\n",
    "ax2.fill_between(num_features,scorel_r[0]+s*scorel_r[1], scorel_r[0]-s*scorel_r[1],color='r',alpha=.2 )\n",
    "ax2.set_ylabel('Loss')\n",
    "ax2.legend(loc=6)\n",
    "plt.tight_layout()\n",
    "plt.savefig('../figures/adult_calibration_race_modelsize_loss_ebar.svg')\n",
    "plt.savefig('../figures/adult_calibration_race_modelsize_loss_ebar.pdf')\n",
    "plt.show()\n",
    "plt.gcf().clear() \n",
    "plt.close()"
   ]
  },
  {
   "cell_type": "markdown",
   "metadata": {},
   "source": [
    "# Different regularization vs calibration vs prediction error"
   ]
  },
  {
   "cell_type": "code",
   "execution_count": 20,
   "metadata": {
    "collapsed": true
   },
   "outputs": [],
   "source": [
    "def one_reg_expt(df, reg=1.0, l1=False, seed=0, return_results=True):\n",
    "    '''Runs an experiment with regularization parameter'''\n",
    "    if l1==True:\n",
    "        cls = linear_model.LogisticRegression(penalty='l1',C=reg)\n",
    "    else:\n",
    "        cls = linear_model.LogisticRegression(penalty='l2',C=reg)\n",
    "        \n",
    "    # random training set of size \n",
    "    np.random.seed(seed=seed)\n",
    "    training_indices = np.random.choice(len(df), num_train, replace=False)\n",
    "    train_data = data.iloc[training_indices]\n",
    "    train_labels = labels.iloc[training_indices]\n",
    "    # fixed test set\n",
    "    test_indices = ~data.index.isin(training_indices.tolist())\n",
    "    test_data = data[test_indices]\n",
    "    test_labels = labels[test_indices]\n",
    "\n",
    "    cls.fit(train_data, train_labels)\n",
    "    predictions = cls.predict(test_data)\n",
    "    scores = cls.predict_proba(test_data)[:, 1]\n",
    "    \n",
    "    temp = df[test_indices]\n",
    "    d = {'target' : test_labels.as_matrix(),\n",
    "         'score' : scores,\n",
    "         'prediction' : predictions,\n",
    "         'race' : temp['Race'],\n",
    "         'gender' : temp['Sex']}\n",
    "    results = pd.DataFrame(data=d)\n",
    "    gender_calib = group_calib_feature(results, 'gender')\n",
    "    race_calib = group_calib_feature(results, 'race')\n",
    "    acc = cls.score(test_data,test_labels.as_matrix())\n",
    "    score_loss = metrics.log_loss(test_labels.as_matrix(), scores)\n",
    "    if return_results:\n",
    "        return gender_calib,race_calib,acc, score_loss, results\n",
    "    else:\n",
    "        return gender_calib,race_calib,acc, score_loss"
   ]
  },
  {
   "cell_type": "code",
   "execution_count": 21,
   "metadata": {
    "collapsed": false
   },
   "outputs": [
    {
     "ename": "KeyboardInterrupt",
     "evalue": "",
     "output_type": "error",
     "traceback": [
      "\u001b[0;31m---------------------------------------------------------------------------\u001b[0m",
      "\u001b[0;31mKeyboardInterrupt\u001b[0m                         Traceback (most recent call last)",
      "\u001b[0;32m<ipython-input-21-3d73b494e631>\u001b[0m in \u001b[0;36m<module>\u001b[0;34m()\u001b[0m\n\u001b[1;32m     10\u001b[0m     \u001b[0mtemp\u001b[0m \u001b[0;34m=\u001b[0m \u001b[0mnp\u001b[0m\u001b[0;34m.\u001b[0m\u001b[0mzeros\u001b[0m\u001b[0;34m(\u001b[0m\u001b[0;34m(\u001b[0m\u001b[0;36m4\u001b[0m\u001b[0;34m,\u001b[0m \u001b[0mrepeats\u001b[0m\u001b[0;34m)\u001b[0m\u001b[0;34m)\u001b[0m\u001b[0;34m\u001b[0m\u001b[0m\n\u001b[1;32m     11\u001b[0m     \u001b[0;32mfor\u001b[0m \u001b[0mj\u001b[0m \u001b[0;32min\u001b[0m \u001b[0mrange\u001b[0m\u001b[0;34m(\u001b[0m\u001b[0mrepeats\u001b[0m\u001b[0;34m)\u001b[0m\u001b[0;34m:\u001b[0m\u001b[0;34m\u001b[0m\u001b[0m\n\u001b[0;32m---> 12\u001b[0;31m         \u001b[0mtemp\u001b[0m\u001b[0;34m[\u001b[0m\u001b[0;36m0\u001b[0m\u001b[0;34m,\u001b[0m\u001b[0mj\u001b[0m\u001b[0;34m]\u001b[0m\u001b[0;34m,\u001b[0m\u001b[0mtemp\u001b[0m\u001b[0;34m[\u001b[0m\u001b[0;36m1\u001b[0m\u001b[0;34m,\u001b[0m\u001b[0mj\u001b[0m\u001b[0;34m]\u001b[0m\u001b[0;34m,\u001b[0m\u001b[0mtemp\u001b[0m\u001b[0;34m[\u001b[0m\u001b[0;36m2\u001b[0m\u001b[0;34m,\u001b[0m\u001b[0mj\u001b[0m\u001b[0;34m]\u001b[0m\u001b[0;34m,\u001b[0m\u001b[0mtemp\u001b[0m\u001b[0;34m[\u001b[0m\u001b[0;36m3\u001b[0m\u001b[0;34m,\u001b[0m\u001b[0mj\u001b[0m\u001b[0;34m]\u001b[0m \u001b[0;34m=\u001b[0m \u001b[0mone_reg_expt\u001b[0m\u001b[0;34m(\u001b[0m\u001b[0moriginal\u001b[0m\u001b[0;34m,\u001b[0m\u001b[0mreg_param\u001b[0m\u001b[0;34m[\u001b[0m\u001b[0mi\u001b[0m\u001b[0;34m]\u001b[0m\u001b[0;34m,\u001b[0m\u001b[0ml1\u001b[0m\u001b[0;34m=\u001b[0m\u001b[0mTrue\u001b[0m\u001b[0;34m,\u001b[0m\u001b[0mreturn_results\u001b[0m\u001b[0;34m=\u001b[0m\u001b[0mFalse\u001b[0m\u001b[0;34m,\u001b[0m \u001b[0mseed\u001b[0m\u001b[0;34m=\u001b[0m\u001b[0mj\u001b[0m\u001b[0;34m)\u001b[0m\u001b[0;34m\u001b[0m\u001b[0m\n\u001b[0m\u001b[1;32m     13\u001b[0m         \u001b[0;31m#print(temp[:,j])\u001b[0m\u001b[0;34m\u001b[0m\u001b[0;34m\u001b[0m\u001b[0m\n\u001b[1;32m     14\u001b[0m     \u001b[0mgender2\u001b[0m\u001b[0;34m[\u001b[0m\u001b[0;36m0\u001b[0m\u001b[0;34m]\u001b[0m\u001b[0;34m[\u001b[0m\u001b[0mi\u001b[0m\u001b[0;34m]\u001b[0m \u001b[0;34m=\u001b[0m \u001b[0mtemp\u001b[0m\u001b[0;34m[\u001b[0m\u001b[0;36m0\u001b[0m\u001b[0;34m]\u001b[0m\u001b[0;34m.\u001b[0m\u001b[0mmean\u001b[0m\u001b[0;34m(\u001b[0m\u001b[0;34m)\u001b[0m\u001b[0;34m\u001b[0m\u001b[0m\n",
      "\u001b[0;32m<ipython-input-20-fbe6ce6da5df>\u001b[0m in \u001b[0;36mone_reg_expt\u001b[0;34m(df, reg, l1, seed, return_results)\u001b[0m\n\u001b[1;32m     16\u001b[0m     \u001b[0mtest_labels\u001b[0m \u001b[0;34m=\u001b[0m \u001b[0mlabels\u001b[0m\u001b[0;34m[\u001b[0m\u001b[0mtest_indices\u001b[0m\u001b[0;34m]\u001b[0m\u001b[0;34m\u001b[0m\u001b[0m\n\u001b[1;32m     17\u001b[0m \u001b[0;34m\u001b[0m\u001b[0m\n\u001b[0;32m---> 18\u001b[0;31m     \u001b[0mcls\u001b[0m\u001b[0;34m.\u001b[0m\u001b[0mfit\u001b[0m\u001b[0;34m(\u001b[0m\u001b[0mtrain_data\u001b[0m\u001b[0;34m,\u001b[0m \u001b[0mtrain_labels\u001b[0m\u001b[0;34m)\u001b[0m\u001b[0;34m\u001b[0m\u001b[0m\n\u001b[0m\u001b[1;32m     19\u001b[0m     \u001b[0mpredictions\u001b[0m \u001b[0;34m=\u001b[0m \u001b[0mcls\u001b[0m\u001b[0;34m.\u001b[0m\u001b[0mpredict\u001b[0m\u001b[0;34m(\u001b[0m\u001b[0mtest_data\u001b[0m\u001b[0;34m)\u001b[0m\u001b[0;34m\u001b[0m\u001b[0m\n\u001b[1;32m     20\u001b[0m     \u001b[0mscores\u001b[0m \u001b[0;34m=\u001b[0m \u001b[0mcls\u001b[0m\u001b[0;34m.\u001b[0m\u001b[0mpredict_proba\u001b[0m\u001b[0;34m(\u001b[0m\u001b[0mtest_data\u001b[0m\u001b[0;34m)\u001b[0m\u001b[0;34m[\u001b[0m\u001b[0;34m:\u001b[0m\u001b[0;34m,\u001b[0m \u001b[0;36m1\u001b[0m\u001b[0;34m]\u001b[0m\u001b[0;34m\u001b[0m\u001b[0m\n",
      "\u001b[0;32m/Users/tingruolydia/anaconda/lib/python2.7/site-packages/sklearn/linear_model/logistic.pyc\u001b[0m in \u001b[0;36mfit\u001b[0;34m(self, X, y, sample_weight)\u001b[0m\n\u001b[1;32m   1184\u001b[0m                 \u001b[0mself\u001b[0m\u001b[0;34m.\u001b[0m\u001b[0mclass_weight\u001b[0m\u001b[0;34m,\u001b[0m \u001b[0mself\u001b[0m\u001b[0;34m.\u001b[0m\u001b[0mpenalty\u001b[0m\u001b[0;34m,\u001b[0m \u001b[0mself\u001b[0m\u001b[0;34m.\u001b[0m\u001b[0mdual\u001b[0m\u001b[0;34m,\u001b[0m \u001b[0mself\u001b[0m\u001b[0;34m.\u001b[0m\u001b[0mverbose\u001b[0m\u001b[0;34m,\u001b[0m\u001b[0;34m\u001b[0m\u001b[0m\n\u001b[1;32m   1185\u001b[0m                 \u001b[0mself\u001b[0m\u001b[0;34m.\u001b[0m\u001b[0mmax_iter\u001b[0m\u001b[0;34m,\u001b[0m \u001b[0mself\u001b[0m\u001b[0;34m.\u001b[0m\u001b[0mtol\u001b[0m\u001b[0;34m,\u001b[0m \u001b[0mself\u001b[0m\u001b[0;34m.\u001b[0m\u001b[0mrandom_state\u001b[0m\u001b[0;34m,\u001b[0m\u001b[0;34m\u001b[0m\u001b[0m\n\u001b[0;32m-> 1186\u001b[0;31m                 sample_weight=sample_weight)\n\u001b[0m\u001b[1;32m   1187\u001b[0m             \u001b[0mself\u001b[0m\u001b[0;34m.\u001b[0m\u001b[0mn_iter_\u001b[0m \u001b[0;34m=\u001b[0m \u001b[0mnp\u001b[0m\u001b[0;34m.\u001b[0m\u001b[0marray\u001b[0m\u001b[0;34m(\u001b[0m\u001b[0;34m[\u001b[0m\u001b[0mn_iter_\u001b[0m\u001b[0;34m]\u001b[0m\u001b[0;34m)\u001b[0m\u001b[0;34m\u001b[0m\u001b[0m\n\u001b[1;32m   1188\u001b[0m             \u001b[0;32mreturn\u001b[0m \u001b[0mself\u001b[0m\u001b[0;34m\u001b[0m\u001b[0m\n",
      "\u001b[0;32m/Users/tingruolydia/anaconda/lib/python2.7/site-packages/sklearn/svm/base.pyc\u001b[0m in \u001b[0;36m_fit_liblinear\u001b[0;34m(X, y, C, fit_intercept, intercept_scaling, class_weight, penalty, dual, verbose, max_iter, tol, random_state, multi_class, loss, epsilon, sample_weight)\u001b[0m\n\u001b[1;32m    910\u001b[0m         \u001b[0mX\u001b[0m\u001b[0;34m,\u001b[0m \u001b[0my_ind\u001b[0m\u001b[0;34m,\u001b[0m \u001b[0msp\u001b[0m\u001b[0;34m.\u001b[0m\u001b[0misspmatrix\u001b[0m\u001b[0;34m(\u001b[0m\u001b[0mX\u001b[0m\u001b[0;34m)\u001b[0m\u001b[0;34m,\u001b[0m \u001b[0msolver_type\u001b[0m\u001b[0;34m,\u001b[0m \u001b[0mtol\u001b[0m\u001b[0;34m,\u001b[0m \u001b[0mbias\u001b[0m\u001b[0;34m,\u001b[0m \u001b[0mC\u001b[0m\u001b[0;34m,\u001b[0m\u001b[0;34m\u001b[0m\u001b[0m\n\u001b[1;32m    911\u001b[0m         \u001b[0mclass_weight_\u001b[0m\u001b[0;34m,\u001b[0m \u001b[0mmax_iter\u001b[0m\u001b[0;34m,\u001b[0m \u001b[0mrnd\u001b[0m\u001b[0;34m.\u001b[0m\u001b[0mrandint\u001b[0m\u001b[0;34m(\u001b[0m\u001b[0mnp\u001b[0m\u001b[0;34m.\u001b[0m\u001b[0miinfo\u001b[0m\u001b[0;34m(\u001b[0m\u001b[0;34m'i'\u001b[0m\u001b[0;34m)\u001b[0m\u001b[0;34m.\u001b[0m\u001b[0mmax\u001b[0m\u001b[0;34m)\u001b[0m\u001b[0;34m,\u001b[0m\u001b[0;34m\u001b[0m\u001b[0m\n\u001b[0;32m--> 912\u001b[0;31m         epsilon, sample_weight)\n\u001b[0m\u001b[1;32m    913\u001b[0m     \u001b[0;31m# Regarding rnd.randint(..) in the above signature:\u001b[0m\u001b[0;34m\u001b[0m\u001b[0;34m\u001b[0m\u001b[0m\n\u001b[1;32m    914\u001b[0m     \u001b[0;31m# seed for srand in range [0..INT_MAX); due to limitations in Numpy\u001b[0m\u001b[0;34m\u001b[0m\u001b[0;34m\u001b[0m\u001b[0m\n",
      "\u001b[0;31mKeyboardInterrupt\u001b[0m: "
     ]
    }
   ],
   "source": [
    "temp2 = [ -9, -8, -7, -6, -5, -4, -2, -1, 0]\n",
    "t = len(temp2)\n",
    "repeats = 10\n",
    "\n",
    "reg_param = np.exp(np.array(temp2))\n",
    "gender2 = [np.zeros(t),np.zeros(t)]\n",
    "race2 = [np.zeros(t),np.zeros(t)]\n",
    "scorel =[np.zeros(t),np.zeros(t)]\n",
    "for i in range(t):\n",
    "    temp = np.zeros((4, repeats))\n",
    "    for j in range(repeats):\n",
    "        temp[0,j],temp[1,j],temp[2,j],temp[3,j] = one_reg_expt(original,reg_param[i],l1=True,return_results=False, seed=j)\n",
    "        #print(temp[:,j])\n",
    "    gender2[0][i] = temp[0].mean()\n",
    "    race2[0][i] = temp[1].mean()\n",
    "    scorel[0][i] = temp[3].mean()\n",
    "    \n",
    "    gender2[1][i] = temp[0].std()\n",
    "    race2[1][i] = temp[1].std()\n",
    "    scorel[1][i] = temp[3].std() "
   ]
  },
  {
   "cell_type": "code",
   "execution_count": null,
   "metadata": {
    "collapsed": false
   },
   "outputs": [],
   "source": [
    "s=2\n",
    "fig, ax1 = plt.subplots(1, 1, figsize=(3.8, 3))\n",
    "ax1.set_title('Sufficiency and L1 Regularization') \n",
    "ax1.plot(temp2, race2[0], color='b', label='Sufficiency by race')\n",
    "ax1.fill_between(temp2, race2[0]+s*race2[1], race2[0]-s*race2[1], alpha=.2, color='b')\n",
    "ax1.plot(temp2, gender2[0], color='g', label='Sufficiency by gender')\n",
    "ax1.fill_between(temp2, gender2[0]+s*gender2[1], gender2[0]-s*gender2[1], alpha=.2, color='g')\n",
    "ax1.set_ylabel('Sufficiency gap')\n",
    "ax1.set_xlabel('Regularization parameter (power of 10)')\n",
    "ax1.xaxis.set_major_locator(MaxNLocator(integer=True))\n",
    "ax1.legend(loc=1)\n",
    "ax2 = ax1.twinx()\n",
    "ax2.plot(temp2,scorel[0],color='r', label='Logistic loss' )\n",
    "ax2.fill_between(temp2, scorel[0]+s*scorel[1], scorel[0]-s*scorel[1], alpha=.2, color='r')\n",
    "ax2.set_ylabel('Loss')\n",
    "ax2.legend(loc=7)\n",
    "plt.tight_layout()\n",
    "plt.savefig('../figures/adult_calibration_genderrace_l1_loss_errbar.svg')\n",
    "plt.savefig('../figures/adult_calibration_race_l1_loss_errbar.pdf')\n",
    "plt.show()\n",
    "plt.gcf().clear() \n",
    "plt.close()"
   ]
  },
  {
   "cell_type": "markdown",
   "metadata": {},
   "source": [
    "# Calibration quantile plots of logistic regression models"
   ]
  },
  {
   "cell_type": "markdown",
   "metadata": {},
   "source": [
    "### regress without group"
   ]
  },
  {
   "cell_type": "code",
   "execution_count": null,
   "metadata": {
    "collapsed": true
   },
   "outputs": [],
   "source": [
    "races = ['White', 'Black', 'Both']\n",
    "styles = ['-', '--', ':']\n",
    "colors = ['g', 'b', 'r']\n",
    "deciles = range(1, 10+1)\n",
    "pylab.rc('font',  size='17')\n",
    "pylab.rc('axes', labelsize='large')\n",
    "pylab.rc('lines', linewidth=3)"
   ]
  },
  {
   "cell_type": "code",
   "execution_count": null,
   "metadata": {
    "collapsed": false
   },
   "outputs": [],
   "source": [
    "_,_,_,marginals=one_feature_expt(original,0,False) #race\n",
    "\n",
    "plot_calib(marginals,\"race\",title_string=\"Calibration without group\", use_quantiles=False)\n"
   ]
  },
  {
   "cell_type": "code",
   "execution_count": null,
   "metadata": {
    "collapsed": false
   },
   "outputs": [],
   "source": [
    "genders = ['Female', 'Male']\n",
    "_,_,_,marginals = one_feature_expt(original,0,True) #gender\n",
    "\n",
    "plot_calib(marginals,\"gender\",title_string=\"Calibration without group\", use_quantiles=False)\n",
    "\n"
   ]
  },
  {
   "cell_type": "markdown",
   "metadata": {},
   "source": [
    "### regress with group"
   ]
  },
  {
   "cell_type": "code",
   "execution_count": null,
   "metadata": {
    "collapsed": true
   },
   "outputs": [],
   "source": [
    "races = ['White', 'Black', 'Both']\n",
    "styles = ['-', '--', ':']\n",
    "colors = ['g', 'b', 'r']\n",
    "deciles = range(1, 10+1)\n",
    "pylab.rc('font',  size='17')\n",
    "pylab.rc('axes', labelsize='large')\n",
    "pylab.rc('lines', linewidth=3)"
   ]
  },
  {
   "cell_type": "code",
   "execution_count": null,
   "metadata": {
    "collapsed": false
   },
   "outputs": [],
   "source": [
    "_,_,_,_,marginals=one_reg_expt(original) #race\n",
    "plot_calib(marginals,\"race\",title_string=\"Calibration without group\", use_quantiles=False)\n"
   ]
  },
  {
   "cell_type": "code",
   "execution_count": null,
   "metadata": {
    "collapsed": false
   },
   "outputs": [],
   "source": [
    "genders = ['Female', 'Male']\n",
    "\n",
    "plot_calib(marginals,\"gender\",title_string=\"Calibration without group\", use_quantiles=False)\n",
    "\n"
   ]
  },
  {
   "cell_type": "markdown",
   "metadata": {},
   "source": [
    "# Multiple group calibration"
   ]
  },
  {
   "cell_type": "code",
   "execution_count": null,
   "metadata": {
    "collapsed": false
   },
   "outputs": [],
   "source": [
    "# train logistic regression model, compute calibration error for all the features.\n",
    "cls = linear_model.LogisticRegression()\n",
    "cls.fit(train_data, train_labels)\n",
    "predictions = cls.predict(test_data)\n",
    "scores = cls.predict_proba(test_data)[:, 1]\n",
    "\n",
    "d = {'target' : test_labels.as_matrix(),\n",
    "     'score' : scores,\n",
    "     'prediction' : predictions}\n",
    "\n",
    "features = [\"Age\", \"Workclass\",  \"Education\", \"Education-Num\", \"Martial Status\",\n",
    "        \"Occupation\", \"Relationship\", \"Race\", \"Sex\", \"Capital Gain\", \"Capital Loss\",\n",
    "        \"Hours per week\", \"Country\"]\n",
    "for feat in features:\n",
    "    d[feat] = original_test[feat]\n",
    "results = pd.DataFrame(data=d)\n",
    "\n"
   ]
  },
  {
   "cell_type": "code",
   "execution_count": null,
   "metadata": {
    "collapsed": false
   },
   "outputs": [],
   "source": [
    "def plot_calib_comb(d,feat1_w, feat1, feat2_w, feat2, u, l):\n",
    "    '''Calibration plot for linear combinations of features'''\n",
    "    comb_feat = \"%.1f*%s+%.1f*%s\"%(feat1_w, feat1, feat2_w, feat2)\n",
    "    d[comb_feat] = feat1_w*original_test[feat1] + feat2_w*original_test[feat2]\n",
    "    results = pd.DataFrame(data=d)\n",
    "    results.loc[results[comb_feat] > u, comb_feat] = '>%d'%u\n",
    "    results.loc[(results[comb_feat] <= u) & (results[comb_feat] > l), comb_feat] = '%d<, <=%d'%(l,u)\n",
    "    results.loc[results[comb_feat] <= l, comb_feat] = '<=%d'%l\n",
    "    plot_calib(results, comb_feat,num_to_plot=3, string='logistic_%s'%comb_feat, title_string=comb_feat )"
   ]
  },
  {
   "cell_type": "code",
   "execution_count": null,
   "metadata": {
    "collapsed": false
   },
   "outputs": [],
   "source": [
    "# combinations of two features\n",
    "feat1='Age'\n",
    "feat1_w = 0.6\n",
    "feat2='Education-Num'\n",
    "feat2_w = 0.4\n",
    "u,l=35, 30\n",
    "plot_calib_comb(d,feat1_w, feat1, feat2_w, feat2, u, l)\n",
    "plot_calib_comb(d, .3, \"Hours per week\", 0.7, \"Age\",50,35)\n",
    "plot_calib_comb(d, .3, \"Capital Gain\", -1, \"Capital Loss\",1000,500)\n"
   ]
  },
  {
   "cell_type": "code",
   "execution_count": null,
   "metadata": {
    "collapsed": false
   },
   "outputs": [],
   "source": [
    "feat1='Sex'\n",
    "feat2='Race'\n",
    "comb_feat = \"%s+%s\"%( feat1, feat2)\n",
    "d[comb_feat] = original_test[feat1] +'+'+ original_test[feat2] \n",
    "results = pd.DataFrame(data=d)\n",
    "plot_calib(results, comb_feat,num_to_plot=4, string='logistic_%s'%comb_feat, title_string=comb_feat )"
   ]
  },
  {
   "cell_type": "code",
   "execution_count": null,
   "metadata": {
    "collapsed": true
   },
   "outputs": [],
   "source": [
    "# fix age and education num\n",
    "results2 = results.copy()\n",
    "results2.loc[results2['Age'] > 40, 'Age'] = '>40'\n",
    "results2.loc[results2['Age'] <= 40, 'Age'] = '<=40'\n",
    "results2.loc[results2['Education-Num'] > 10, 'Education-Num'] = '>10'\n",
    "results2.loc[results2['Education-Num'] <= 10, 'Education-Num'] = '<=10'\n",
    "results2.loc[results2['Capital Gain'] > 1000, 'Capital Gain'] = '>1000'\n",
    "results2.loc[results2['Capital Gain'] <= 1000, 'Capital Gain'] = '<=1000'\n",
    "results2.loc[results2['Capital Loss'] > 1000, 'Capital Loss'] = '>1000'\n",
    "results2.loc[results2['Capital Loss'] <= 1000, 'Capital Loss'] = '<=1000'\n",
    "results2.loc[results2['Hours per week'] > 50, 'Hours per week'] = '>50'\n",
    "results2.loc[results2['Hours per week'] <= 50, 'Hours per week'] = '<=50'"
   ]
  },
  {
   "cell_type": "code",
   "execution_count": null,
   "metadata": {
    "collapsed": false
   },
   "outputs": [],
   "source": [
    "for feat in features:\n",
    "    plot_calib(results2, feat,num_to_plot=3, string='logistic_%s'%feat, title_string=\"Calibration for %s\"%feat)"
   ]
  }
 ],
 "metadata": {
  "kernelspec": {
   "display_name": "Python 2",
   "language": "python",
   "name": "python2"
  },
  "language_info": {
   "codemirror_mode": {
    "name": "ipython",
    "version": 2
   },
   "file_extension": ".py",
   "mimetype": "text/x-python",
   "name": "python",
   "nbconvert_exporter": "python",
   "pygments_lexer": "ipython2",
   "version": "2.7.15"
  }
 },
 "nbformat": 4,
 "nbformat_minor": 2
}
